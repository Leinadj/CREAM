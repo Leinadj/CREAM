{
 "cells": [
  {
   "cell_type": "markdown",
   "metadata": {},
   "source": [
    "# 2. Tool to identify some components that have caused the electrical events\n",
    "\n",
    "<p> This jupyter notebook was used to manually identify some of the componennts that have caused the electrical events, that were previously hand-labeled. The components identified are <b> pumps, grinders (motor) and heaters </b>in the coffeemaker. </p> <b> This is the second notebook in the labeling pipeline of CREAM. </b>\n",
    "<div class=\"alert alert-info\">\n",
    "    <h3>Instructions for using this notebook</h3>\n",
    "    <p> In the following, we load the electrical events that have been previously labeled with the \"1_electrical_events_labeling_tool.ipynb\" notebook. </p>\n",
    "    <p> Proceed at the end of the notebook with the corresponding cell for the labeling. Follow the instructions given there. </p>\n"
   ]
  },
  {
   "cell_type": "markdown",
   "metadata": {},
   "source": [
    "## Imports"
   ]
  },
  {
   "cell_type": "code",
   "execution_count": null,
   "metadata": {
    "scrolled": false
   },
   "outputs": [],
   "source": [
    "import numpy as np\n",
    "import matplotlib.pyplot as plt\n",
    "import matplotlib.dates as mdates\n",
    "import h5py\n",
    "import pandas as pd\n",
    "import os\n",
    "import sys\n",
    "from pathlib import Path\n",
    "from datetime import datetime\n",
    "from datetime import timedelta\n",
    "import math\n",
    "import pdb\n",
    "import scipy\n",
    "# Add project path to path for import\n",
    "project_path = os.path.abspath(\"..\")\n",
    "if project_path not in sys.path:\n",
    "    sys.path.append(project_path)\n",
    "\n",
    "# Add module path to path for import\n",
    "module_path = os.path.abspath(\"../data_utility/data_utility.py\")\n",
    "if module_path not in sys.path:\n",
    "    sys.path.append(module_path)\n",
    "    \n",
    "from data_utility import CREAM_Day # class to work with a day of the CREAM Dataset\n",
    "\n",
    "%matplotlib notebook\n",
    "# Intentional replication is necessary\n",
    "%matplotlib notebook\n",
    "%load_ext autoreload\n",
    "# Reload all modules every time before executing the Python code typed.\n",
    "%autoreload 2 \n",
    "# Import some graphical modules\n",
    "from IPython.display import display, clear_output\n",
    "from ipywidgets import Button, Layout, ButtonStyle, HBox, VBox, widgets, Output\n",
    "from IPython.display import SVG, display, clear_output\n",
    "\n",
    "import subprocess\n",
    "import glob"
   ]
  },
  {
   "cell_type": "markdown",
   "metadata": {},
   "source": [
    "## Global Functions"
   ]
  },
  {
   "cell_type": "code",
   "execution_count": null,
   "metadata": {
    "code_folding": [
     0
    ]
   },
   "outputs": [],
   "source": [
    "def plot_event_window(event_timestamp:pd.Timestamp, window_size, current_CREAM_day:CREAM_Day, concurrent_events_dict):\n",
    "    \"\"\"\n",
    "    \n",
    "    Plots a window of window_size in each direction around the event_timestamp.\n",
    "    The event_timestamp marks the beginning of the minute where the event stopped.\n",
    "    So instead of directly using the event_timestamp, we plot the event_timestamp + 59 seconds \n",
    "    to mark the end of the minute in that the event stopped.\n",
    "    Therefore the event has happended before the point that is marked as a bold red line.\n",
    "    The current signal of the coffee maker is plotted.\n",
    "    The event type is the label the event gets.\n",
    "    If a concurrent_events_dict is provided, with the keys being the name of the event list and the values being the event dataframes,\n",
    "    all other events that happen within the window of interest are also plotted.\n",
    "    Appliance events are bold orange lines.\n",
    "    Other events are dashed red lines.\n",
    "\n",
    "    \"\"\"\n",
    "    # Import and set globals necessary for the click functions\n",
    "    \n",
    "    global EVENT_TIMESTAMP\n",
    "    global WINDOW_START_TS\n",
    "    global COMPONENTS_DF\n",
    "    \n",
    "    # Instead of taking the event timestamp directly we take the END of the minute\n",
    "    end_event_timestamp  = event_timestamp + timedelta(seconds=59)\n",
    "    \n",
    "    # Tackle border cases of the timestamp\n",
    "    if end_event_timestamp - timedelta(seconds=window_size) < current_CREAM_day.minimum_request_timestamp: # in case we are at the beginning of the day\n",
    "        duration_to_left = end_event_timestamp - current_CREAM_day.minimum_request_timestamp\n",
    "        duration_to_left = duration_to_left.total_seconds() # amount of data that we load now to the left of the current timestmap\n",
    "        duration_to_right = window_size #to the right we can load the full window \n",
    "        \n",
    "    elif end_event_timestamp + timedelta(seconds=window_size) >  current_CREAM_day.maximum_request_timestamp: # in case we are at the end of the day\n",
    "        duration_to_right = current_CREAM_day.maximum_request_timestamp - end_event_timestamp \n",
    "        duration_to_right = duration_to_right.total_seconds() #amount of data that we load now to the right of the current timestamp\n",
    "        duration_to_left = window_size #to the left we can load the full window\n",
    "    \n",
    "    else: # if we have anough datapoints to the left and to the right to load the full WINDOW_SIZE in each direction\n",
    "        duration_to_left = window_size\n",
    "        duration_to_right = window_size\n",
    "    \n",
    "    # Create the start- and end-timestamp and compute the overall duration of the window\n",
    "    duration = duration_to_left + duration_to_right\n",
    "    \n",
    "    start_ts = end_event_timestamp - timedelta(seconds=duration_to_left)\n",
    "        \n",
    "    end_ts = end_event_timestamp + timedelta(seconds=duration_to_right)\n",
    "        \n",
    "    # Load the data\n",
    "    \n",
    "    voltage, current = current_CREAM_day.load_time_frame(start_datetime=start_ts, duration=duration) #and WINDOW_SIZE seconds after the event\n",
    "        \n",
    "    # Compute the index of the event, using the timestamp\n",
    "    end_event_index = current_CREAM_day.get_index_from_timestamp(start_ts, end_event_timestamp)\n",
    "    \n",
    "    fig, ax = plt.subplots(1,1)   \n",
    "    fig.canvas.mpl_connect('button_press_event', onclick) #append event to figure\n",
    "    \n",
    "    xticks = np.arange(len(current))\n",
    "    ax.plot(xticks, current, markersize=0.1, alpha=0.6) \n",
    "    \n",
    "    ax.tick_params(axis='x', rotation=90) #rotate the xlabels\n",
    "\n",
    "    if np.max(current) < 1: #in case of noise, show an appropriate range\n",
    "        ax.set_ylim([-6,6])\n",
    "    \n",
    "    # Plot the event line\n",
    "    ax.axvline(end_event_index, color=\"red\", linewidth=1.5)\n",
    "    \n",
    "    # Add other events that happend within the window\n",
    "    if len(concurrent_events_dict) > 0:\n",
    "        \n",
    "        for event_list_name, concurrent_events_df in concurrent_events_dict.items():\n",
    "            \n",
    "            # If an already refined timestamp list (either product, or maintenance) is provided, one\n",
    "            # can plot the detailed end timestamps instead of the coarse grained ones that are not refined yet\n",
    "            if \"End_Timestamp\" in concurrent_events_df.columns:\n",
    "                ts_column_name = \"End_Timestamp\"\n",
    "            else:\n",
    "                ts_column_name = \"Timestamp\"\n",
    "                \n",
    "            concurrent_events_df_roi = concurrent_events_df[(concurrent_events_df[ts_column_name] <= end_ts) & (concurrent_events_df[ts_column_name] >= start_ts)]\n",
    "            \n",
    "            if len(concurrent_events_df_roi) > 0:\n",
    "                for i, row in concurrent_events_df_roi.iterrows():\n",
    "                    \n",
    "                    # Get the event index\n",
    "                    i = current_CREAM_day.get_index_from_timestamp(start_ts, row[ts_column_name])\n",
    "\n",
    "                    # Some plotting adjustments, depending on the type of event that is plotted\n",
    "                    if \"component\" in event_list_name:\n",
    "                        color =\"orange\"\n",
    "                        linewidth=1.5\n",
    "                        \n",
    "                            \n",
    "                    else: # in case of product or maintenance events\n",
    "                        color=\"red\"\n",
    "                        if \"product\" in event_list_name:\n",
    "                            if \"Product\" in concurrent_events_df_roi.columns:\n",
    "                                label = row.Product\n",
    "                            elif \"Event_Type\" in concurrent_events_df_roi.columns:\n",
    "                                label= row.Event_Type\n",
    "                            else:\n",
    "                                label = \"unspecified\"\n",
    "                            \n",
    "                            linewidth=1.2\n",
    "                                \n",
    "                        elif \"maintenance\" in event_list_name:\n",
    "                            \n",
    "                            if \"Activity\" in concurrent_events_df_roi.columns:\n",
    "                                label = row.Activity\n",
    "                            elif \"Event_Type\" in concurrent_events_df_roi.columns:\n",
    "                                label= row.Event_Type\n",
    "                            else:\n",
    "                                label = \"unspecified\"\n",
    "                            linewidth=1.2\n",
    "                            \n",
    "                        else:\n",
    "                            label = \"Unknown\"\n",
    "                            linewidth=0.6\n",
    "                    \n",
    "                    # Plot the line\n",
    "                    ax.axvline(i, color=color, linestyle=\":\", label=label, linewidth=linewidth)\n",
    "                        \n",
    "        \n",
    "    if len(COMPONENTS_DF) > 1:\n",
    "\n",
    "        # use mask here because of misaligned indices \n",
    "        mask = (COMPONENTS_DF.Timestamp <= end_ts) & (COMPONENTS_DF.Timestamp >= start_ts)\n",
    "        concurrent_events_df_roi = COMPONENTS_DF.loc[mask.values]\n",
    "        concurrent_events_df_roi = concurrent_events_df_roi[concurrent_events_df_roi.Component!=\"unlabeled\"] #only take the ones with an already labeled component\n",
    "        if len(concurrent_events_df_roi) > 0:\n",
    "            for i, row in concurrent_events_df_roi.iterrows():\n",
    "                i = current_CREAM_day.get_index_from_timestamp(start_ts, row.Timestamp)\n",
    "                ax.axvline(i, color=\"green\", linestyle=\":\", label=\"already labeled end \" + str(i))\n",
    "    \n",
    "    # add time information to plot\n",
    "    samples_per_minute = current_CREAM_day.sampling_rate * 60 #every 60 seconds\n",
    "    \n",
    "    if len(current) % samples_per_minute  == 0: #just in case the parameters are changed and there are no full minutes in the signals\n",
    "        step = len(current) / samples_per_minute\n",
    "        for i in range(0, int(step+1)):\n",
    "            ax.axvline(i*samples_per_minute, color=\"black\", ymax=0.1)\n",
    "    \n",
    "    fig.suptitle(\"Event :\" +  \"\\n\" + str(str(start_ts) + \" - \" + str(end_ts)))\n",
    "    ax.legend(loc='upper right')\n",
    "    \n",
    "    EVENT_TIMESTAMP = event_timestamp\n",
    "    WINDOW_START_TS = start_ts\n",
    "    \n",
    "    return fig, ax"
   ]
  },
  {
   "cell_type": "markdown",
   "metadata": {},
   "source": [
    "##  Global Variables"
   ]
  },
  {
   "cell_type": "code",
   "execution_count": null,
   "metadata": {},
   "outputs": [],
   "source": [
    "EVENT_INDEX = int(0) # index of the EVENTS_TO_LABEL_DF that the programm is currently at\n",
    "EVENTS_TO_LABEL_DF = None # dataframe of the list of events to label\n",
    "EVENT_TIMESTAMP = None # timestamp of the event that is in the current focus\n",
    "WINDOW_START_TS = None # start timestamp of the window we are currently looking at\n",
    "LAST_EVENT_CLICKED_LOC_LIST = [] # list of the locs of the last events clicked\n",
    "LABELED_TIMESTAMP = None # the labeled timestamp\n",
    "WINDOW_SIZE = int(120) # seconds, the window size in each direction around and event to be displayed\n",
    "ALL_DAYS = [\"2018-08-23\" , \"2018-08-24\" , \"2018-08-25\",  \"2018-08-26\" , \"2018-08-27\" , \"2018-08-28\" ,\n",
    "\"2018-08-29\", \"2018-08-30\", \"2018-08-31\", \"2018-09-01\", \"2018-09-02\" , \"2018-09-03\" ,  \"2018-09-04\" ,\n",
    "\"2018-09-05\", \"2018-09-06\", \"2018-09-07\", \"2018-09-08\" , \"2018-09-09\" , \"2018-09-10\", \"2018-09-11\", \"2018-09-12\" \n",
    "\"2018-09-13\" ,\"2018-09-14\" ,\"2018-09-15\" ,  \"2018-09-16\", \"2018-09-17\", \"2018-09-18\",\"2018-09-19\"  , \"2018-09-20\" ,\n",
    "\"2018-09-21\" , \"2018-09-22\" ,  \"2018-09-23\" ,\"2018-09-24\" ,\"2018-09-25\" ,\"2018-09-26\" , \"2018-09-27\", \"2018-09-28\" ,\n",
    "\"2018-09-29\" , \"2018-09-30\" , \"2018-10-01\" ,\"2018-10-02\" , \"2018-10-03\" ,\"2018-10-04\", \"2018-10-05\" , \"2018-10-06\" ,\n",
    "\"2018-10-07\", \"2018-10-08\" ]"
   ]
  },
  {
   "cell_type": "markdown",
   "metadata": {},
   "source": [
    "## Widget functions for the UI"
   ]
  },
  {
   "cell_type": "code",
   "execution_count": null,
   "metadata": {},
   "outputs": [],
   "source": [
    "closest_event_loc = None\n",
    "timestamp_clicked = None"
   ]
  },
  {
   "cell_type": "code",
   "execution_count": null,
   "metadata": {
    "code_folding": [
     0
    ]
   },
   "outputs": [],
   "source": [
    "def onclick(event):\n",
    "    \"\"\"\n",
    "    Function to be executed in case of a click event at a figure.\n",
    "    \"\"\"\n",
    "    global COMPONENTS_DF # Dataframe containing the component events\n",
    "    global COMPONENT_NAME # Name of the component currently labeled\n",
    "    global LAST_EVENT_CLICKED_LOC_LIST # list of locs of the last events clicked, used for deleting last click in case of errors\n",
    "    global EVENT_TIMESTAMP #timestamp of the event of interest that was autoamticcaly generated\n",
    "    global WINDOW_START_TS #start timestamp of the window we are currently looking at\n",
    "    global current_CREAM_day #object representing the current day in the CREAM dataset\n",
    "    global EVENT_INDEX # index of the EVENTS_TO_LABEL_DF that the programm is currently at\n",
    "    \n",
    "    global closest_event_loc\n",
    "    global timestamp_clicked\n",
    "    # Take the event index from the click, convert it to a timestamp\n",
    "    timestamp_clicked = current_CREAM_day.get_timestamp_from_index(WINDOW_START_TS, math.floor(event.xdata))\n",
    "    \n",
    "    if  timestamp_clicked > EVENT_TIMESTAMP + timedelta(seconds=60):\n",
    "        print(\"The red timestamp is generated after the event is completed! Hence, do not place the click after it!\")\n",
    "        return\n",
    "   \n",
    "    \n",
    "   \n",
    "    event_before = COMPONENTS_DF[COMPONENTS_DF.Timestamp <= timestamp_clicked].iloc[-1]\n",
    "    event_after = COMPONENTS_DF[COMPONENTS_DF.Timestamp > timestamp_clicked].iloc[0]\n",
    "    delta_before = timestamp_clicked - event_before.Timestamp\n",
    "    delta_before = delta_before.total_seconds()\n",
    "    delta_after = event_after.Timestamp - timestamp_clicked \n",
    "    delta_after = delta_after.total_seconds()\n",
    "    if delta_before <= delta_after:\n",
    "        closest_event_loc = event_before.name\n",
    "    else:\n",
    "        closest_event_loc = event_after.name\n",
    "    COMPONENTS_DF.at[closest_event_loc, \"Component\"] = COMPONENT_NAME\n",
    "    \n",
    "    # Store the loc to enable the delete function in case of errors\n",
    "    LAST_EVENT_CLICKED_LOC_LIST.append(closest_event_loc)\n",
    "    \n",
    "    # Increment the index we are currently looking at\n",
    "    EVENT_INDEX += 1 \n",
    "    \n",
    "\n",
    "    \n",
    "    return\n",
    "    "
   ]
  },
  {
   "cell_type": "code",
   "execution_count": null,
   "metadata": {
    "code_folding": [
     0
    ]
   },
   "outputs": [],
   "source": [
    "def display_initial_event(event_index_p=0):\n",
    "    \"\"\"\n",
    "    Display the start event. This is set to 0 as per default!\n",
    "    In case of interruptions in the labeling process or in case of errors, you can restart labeling at\n",
    "    an arbitrary index using the event_index_p paramter.\n",
    "    \"\"\"\n",
    "    \n",
    "    global COMPONENTS_DF # Dataframe containing the component events\n",
    "    global COMPONENT_NAME # Name of the component currently labeled\n",
    "    global LAST_EVENT_CLICKED_LOC_LIST # loc of the last event clicked, used for deleting last click in case of errors\n",
    "    global CONCURRENT_EVENTS_DICT # dictionary containg the events happening concurrently, used for plotting\n",
    "    global EVENTS_TO_LABEL_DF # dataframe of the list of events to label\n",
    "    global EVENT_INDEX # event index we are currently processing\n",
    "    global FIG # global figure object\n",
    "    global AX # global axis object\n",
    "    global current_CREAM_day # global CREAM_day object\n",
    "    global WINDOW_SIZE # global WINDOW_SIZE\n",
    "        \n",
    "    plt.clf()\n",
    "    clear_output()\n",
    "    \n",
    "    if EVENT_INDEX > len(EVENTS_TO_LABEL_DF)-1:\n",
    "        print(\"THIS WAS THE LAST EVENT! YOU ARE DONE!\")\n",
    "        return \n",
    "    \n",
    "    \n",
    "    # For the timestamp we need to check if we need to create the corresponding CREAM_Day object, or if it already exists\n",
    "    event_timestamp = EVENTS_TO_LABEL_DF.iloc[EVENT_INDEX].Timestamp\n",
    "    event_date = str(EVENTS_TO_LABEL_DF.iloc[EVENT_INDEX].Date)\n",
    "    \n",
    "    if current_CREAM_day.day_date != event_date: # if the event does not lie withing the current CREAM_day object, create a new one\n",
    "        day_path = os.path.join(PATH_TO_DATA, event_date) \n",
    "        current_CREAM_day = CREAM_Day(cream_day_location=day_path,use_buffer=True, buffer_size_files=2) \n",
    "        \n",
    "    FIG, AX = plot_event_window(event_timestamp = EVENTS_TO_LABEL_DF.iloc[EVENT_INDEX].Timestamp, \n",
    "            window_size = WINDOW_SIZE,\n",
    "            current_CREAM_day = current_CREAM_day,\n",
    "            concurrent_events_dict = CONCURRENT_EVENTS_DICT)\n",
    "        \n",
    "    FIG.show()\n",
    "    display(button_box)"
   ]
  },
  {
   "cell_type": "code",
   "execution_count": null,
   "metadata": {
    "code_folding": [
     0
    ]
   },
   "outputs": [],
   "source": [
    "def on_next_clicked(event):\n",
    "  \n",
    "    \n",
    "    global LABEL_DESTINATION_PATH #location where the event labels will be stored, is user specified\n",
    "    global WINDOW_START_TS #start timestamp of the window we are currently looking at\n",
    "    global COMPONENTS_DF # Dataframe containing the component events\n",
    "    global COMPONENT_NAME # Name of the component currently labeled\n",
    "    global LAST_EVENT_CLICKED_LOC_LIST # loc of the last event clicked, used for deleting last click in case of errors\n",
    "    global CONCURRENT_EVENTS_DICT # dictionary containg the events happening concurrently, used for plotting\n",
    "    global EVENTS_TO_LABEL_DF # dataframe of the list of events to label\n",
    "    global EVENT_INDEX # event index we are currently processing\n",
    "    global FIG # global figure object\n",
    "    global AX # global axis object\n",
    "    global current_CREAM_day # global CREAM_day object\n",
    "    global WINDOW_SIZE # global WINDOW_SIZE\n",
    "    \n",
    " \n",
    "    save_labels(destination=LABEL_DESTINATION_PATH) #save it\n",
    "    \n",
    "    plt.clf()\n",
    "    clear_output()\n",
    "    \n",
    "    \n",
    "    if EVENT_INDEX > len(EVENTS_TO_LABEL_DF)-1:\n",
    "        print(\"THIS WAS THE LAST EVENT! YOU ARE DONE!\")\n",
    "        return \n",
    "\n",
    "    print(\"This is event number \" + str(EVENT_INDEX) + \" of \" + str(len(EVENTS_TO_LABEL_DF)))\n",
    "    \n",
    "    \n",
    "    # For the timestamp we need to check if we need to create the corresponding CREAM_Day object, or if it already exists\n",
    "    event_timestamp = EVENTS_TO_LABEL_DF.iloc[EVENT_INDEX].Timestamp\n",
    "    event_date = str(EVENTS_TO_LABEL_DF.iloc[EVENT_INDEX].Date)\n",
    "    if current_CREAM_day.day_date != event_date: # if the event does not lie withing the current CREAM_day object, create a new one\n",
    "        day_path = os.path.join(PATH_TO_DATA, event_date) \n",
    "        current_CREAM_day = CREAM_Day(cream_day_location=day_path,use_buffer=True, buffer_size_files=2) \n",
    "        \n",
    "    FIG, AX = plot_event_window(event_timestamp = EVENTS_TO_LABEL_DF.iloc[EVENT_INDEX].Timestamp, \n",
    "        window_size = WINDOW_SIZE,\n",
    "        current_CREAM_day = current_CREAM_day,\n",
    "        concurrent_events_dict = CONCURRENT_EVENTS_DICT)\n",
    "  \n",
    "    FIG.show()\n",
    "    display(button_box)\n",
    "       "
   ]
  },
  {
   "cell_type": "code",
   "execution_count": null,
   "metadata": {
    "code_folding": []
   },
   "outputs": [],
   "source": [
    "def save_labels(destination: str):\n",
    "    global EVENT_INDEX\n",
    "    global COMPONENTS_DF\n",
    "    global COMPONENT_NAME\n",
    "    \n",
    "    filename = \"labeled_component_events.csv\" \n",
    "    \n",
    "    if EVENT_INDEX % 10 == 0 and EVENT_INDEX > 0: #every 10 events: before storing the new file, save the old one       \n",
    "        os.rename(os.path.join(destination, filename), os.path.join(destination, \"previous_component_event_labels.csv\"))\n",
    "    \n",
    "    #Store the new one\n",
    "    COMPONENTS_DF.to_csv(os.path.join(destination, filename), index=False)"
   ]
  },
  {
   "cell_type": "code",
   "execution_count": null,
   "metadata": {
    "code_folding": [
     0
    ]
   },
   "outputs": [],
   "source": [
    "def on_delete_clicked(event):\n",
    "    \"\"\"\n",
    "    Deletes the last click from every key in the event_dictionary and returns to the previous window\n",
    "    \"\"\"\n",
    "    global COMPONENTS_DF # Dataframe containing the component events\n",
    "    global COMPONENT_NAME # Name of the component currently labeled\n",
    "    global LAST_EVENT_CLICKED_LOC_LIST # loc of the last event clicked, used for deleting last click in case of errors\n",
    "    global CONCURRENT_EVENTS_DICT # dictionary containg the events happening concurrently, used for plotting\n",
    "    global EVENTS_TO_LABEL_DF # dataframe of the list of events to label\n",
    "    global EVENT_INDEX # event index we are currently processing\n",
    "    global FIG # global figure object\n",
    "    global AX # global axis object\n",
    "    \n",
    "    if EVENT_INDEX <= 0 or LAST_EVENT_CLICKED_LOC_LIST is None: #we arrived at the first event again\n",
    "        print(\"This is the first event, you can not go further back in time!\")\n",
    "        return \n",
    "    \n",
    "    COMPONENTS_DF.at[LAST_EVENT_CLICKED_LOC_LIST[EVENT_INDEX], \"Component\"] = \"unlabeled\"\n",
    "    \n",
    "    \n",
    "    EVENT_INDEX = EVENT_INDEX - 1 # adjust EVENT_INDEX\n",
    "    \n",
    "    FIG, AX = plot_event_window(event_timestamp = EVENTS_TO_LABEL_DF[EVENT_INDEX].Timestamp, \n",
    "            window_size = WINDOW_SIZE,\n",
    "            current_CREAM_day = current_CREAM_day,\n",
    "            concurrent_events_dict = CONCURRENT_EVENTS_DICT)\n",
    "    \n",
    "    # Now display the previous event\n",
    "    plt.clf()\n",
    "    clear_output()\n",
    "    print(\"The current Event Index is \" + str(EVENT_INDEX))\n",
    "    FIG.show()\n",
    "    display(button_box)\n",
    "    \n",
    "    return EVENT_DICTIONARY"
   ]
  },
  {
   "cell_type": "markdown",
   "metadata": {},
   "source": [
    "# Only touch this area in the notebook to alter variables like, for example, the path to the dataset"
   ]
  },
  {
   "cell_type": "markdown",
   "metadata": {},
   "source": [
    "<div class=\"alert alert-danger\">\n",
    "    <h3>//ToDo</h3>'\n",
    "    <p>Please specify the component name to label. </p>\n",
    "</div>"
   ]
  },
  {
   "cell_type": "code",
   "execution_count": null,
   "metadata": {},
   "outputs": [],
   "source": [
    "COMPONENT_NAME = \"millingplant\" # 'pump', 'heater'"
   ]
  },
  {
   "cell_type": "markdown",
   "metadata": {},
   "source": [
    "<div class=\"alert alert-danger\">\n",
    "    <h3>//ToDo</h3>\n",
    "    <p>Please specify the path to the main-folder of \"CREAM\". </p>\n",
    "</div>"
   ]
  },
  {
   "cell_type": "code",
   "execution_count": null,
   "metadata": {},
   "outputs": [],
   "source": [
    "PATH_TO_DATA = os.path.abspath(os.path.join(\"..\", \"..\", \"Datasets\", \"CREAM\", \"CREAM\"))"
   ]
  },
  {
   "cell_type": "markdown",
   "metadata": {},
   "source": [
    "<div class=\"alert alert-danger\">\n",
    "    <h3>//ToDo</h3>\n",
    "    <p>Please specify the path to location where you want to store the labels. </p>\n",
    "</div>"
   ]
  },
  {
   "cell_type": "code",
   "execution_count": null,
   "metadata": {},
   "outputs": [],
   "source": [
    "LABEL_DESTINATION_PATH = os.path.abspath(os.path.join(\"..\", \"..\", \"Datasets\", \"CREAM\", \"tmp\")) "
   ]
  },
  {
   "cell_type": "markdown",
   "metadata": {},
   "source": [
    "## Execute this cell to load the raw electrical events"
   ]
  },
  {
   "cell_type": "markdown",
   "metadata": {},
   "source": [
    "<p> In the following, we load the electrical events that have been previously labeled with the \"1_electrical_events_labeling_tool.ipynb\" notebook. </p>\n",
    "<p> Furthermore, we load the raw product and maintenance events, that contain the timestamps with a per minute precision </p>"
   ]
  },
  {
   "cell_type": "code",
   "execution_count": null,
   "metadata": {},
   "outputs": [],
   "source": [
    "#necessary for the plotting\n",
    "# Load the events \n",
    "day_path = os.path.join(PATH_TO_DATA, \"2018-08-24\") #arbitrary day to initialize the object\n",
    "current_CREAM_day = CREAM_Day(cream_day_location=day_path,use_buffer=True, buffer_size_files=2) \n",
    "\n",
    "# Load the electrical component events (the raw ones)\n",
    "COMPONENTS_DF = current_CREAM_day.load_component_events(os.path.join(PATH_TO_DATA, \"raw_coffee_maker_logs\", \"raw_component_events.csv\"), raw_file=True, filter_day=False)\n",
    "\n",
    "# Load the product and the maintenance events (the raw ones, per minute events) and filter for the day\n",
    "all_maintenance_events = current_CREAM_day.load_machine_events(os.path.join(PATH_TO_DATA, \"raw_coffee_maker_logs\", \"raw_maintenance_events.csv\"), raw_file=True, filter_day=False)\n",
    "all_product_events = current_CREAM_day.load_machine_events(os.path.join(PATH_TO_DATA, \"raw_coffee_maker_logs\", \"raw_product_events.csv\"), raw_file=True, filter_day=False)\n",
    "\n",
    "# Initalize the dictionary that is used to determine concurrent_events in the plot method\n",
    "CONCURRENT_EVENTS_DICT = {\"product_events\" : all_product_events, \"maintenance_events\" : all_maintenance_events}"
   ]
  },
  {
   "cell_type": "markdown",
   "metadata": {},
   "source": [
    "## Execute this cell to add the \"Component\" column to the raw_component events from labeling step 1"
   ]
  },
  {
   "cell_type": "code",
   "execution_count": null,
   "metadata": {
    "scrolled": true
   },
   "outputs": [],
   "source": [
    "if \"Component\" not in COMPONENTS_DF.columns: #only if the column has not been created before\n",
    "    COMPONENTS_DF[\"Component\"] = \"unlabeled\""
   ]
  },
  {
   "cell_type": "markdown",
   "metadata": {},
   "source": [
    "# Execute this cell to start the labeling"
   ]
  },
  {
   "cell_type": "markdown",
   "metadata": {},
   "source": [
    "<p> Click into the figure as close as possible to the event you want to label. The closest event to your click\n",
    "is then labeled accordingly. </p>\n",
    "<p> To ease labeling and to raise awareness for concurrent events the follwoing lines are displayed: </p>\n",
    "    <p> Appliance event labels are shown in dashed orange lines </p>\n",
    "    <p> Any other product or maintenance event is show with a dashed red line </p>\n",
    "<p> <b> The red line marks the point by that the event has to be finished latest! </b> </p>\n",
    "<p> The short black lines represent one minute steps </p>\n",
    "<p> If you think you are done with this event, click the green <b> \"next\" </b> button to load the next event and save the previous one </p>\n",
    "<p> If you have selected <b> \"next\" </b> accidentially or still to remove the event you have labeled from the previous event, select the red <b> \"delete last entry\" </b >button </p>"
   ]
  },
  {
   "cell_type": "markdown",
   "metadata": {},
   "source": [
    "<div class=\"alert alert-info\">\n",
    " <h4>Empty Figure or not in interactive mode</h4>\n",
    "    <p>If the plot does not load or is not in the interactive mode, reexecute the cell or reexcute the import cell</p>\n",
    "</div>"
   ]
  },
  {
   "cell_type": "markdown",
   "metadata": {},
   "source": [
    "<div class=\"alert alert-danger\">\n",
    "    <h3> Do not use the zoom and other capabilities from the plot toolbar</h3>\n",
    "    <p>Clicks when zooming etc. also get registred as clicks for labels!</p>\n",
    "</div>"
   ]
  },
  {
   "cell_type": "code",
   "execution_count": null,
   "metadata": {
    "scrolled": false
   },
   "outputs": [],
   "source": [
    "\n",
    "if COMPONENT_NAME == \"millingplant\":\n",
    "    #build the events_to_label and the concurrent_events dict (schauen ob das schon gefilterted erwartet wird!)\n",
    "    EVENTS_TO_LABEL_DF = None # dataframe of the list of events to label\n",
    "    \n",
    "    EVENTS_TO_LABEL_DF = all_maintenance_events[(all_maintenance_events.Activity == 'MillingPlantEspresso') |\n",
    "                                    (all_maintenance_events.Activity == 'MillingPlantCoffee')]\n",
    "    \n",
    "    # sample a random subset, because there are a lot of them\n",
    "    np.random.seed(42)\n",
    "    sample_size = int(len(EVENTS_TO_LABEL_DF) * 0.15)\n",
    "    events_to_label_subset = np.random.choice(EVENTS_TO_LABEL_DF.index, sample_size, replace=False) \n",
    "    EVENTS_TO_LABEL_DF = EVENTS_TO_LABEL_DF.loc[events_to_label_subset]\n",
    "    EVENTS_TO_LABEL_DF.sort_index(inplace=True) #sort by index\n",
    "    print(\"Proceed with the labeleling of the millingplant events below!\")\n",
    "    # Create and register Buttons\n",
    "    next_button =  Button(description=\"Next -> \",style=ButtonStyle(button_color='green'))\n",
    "    delete_button = Button(description=\" <- Delete last entry\",style=ButtonStyle(button_color='red'))\n",
    "    button_box = HBox([next_button, delete_button])\n",
    "    next_button.on_click(on_next_clicked)\n",
    "    delete_button.on_click(on_delete_clicked)\n",
    "    # Display first event --> event_index is set to zero for the start\n",
    "    # In case of erros or interruptions, provide another event index to the display_initial_event function\n",
    "    display_initial_event(event_index_p=0)\n",
    "    \n",
    "elif COMPONENT_NAME == \"pump\":\n",
    "    \n",
    "    EVENTS_TO_LABEL_DF = all_product_events[all_product_events.Product == 'hot_water']\n",
    "    EVENTS_TO_LABEL_DF.sort_index(inplace=True) #sort by index\n",
    "\n",
    "    print(\"Proceed with the labeling of the pump events below!\")\n",
    "    # Create and register Buttons\n",
    "    next_button =  Button(description=\"Next -> \",style=ButtonStyle(button_color='green'))\n",
    "    delete_button = Button(description=\" <- Delete last entry\",style=ButtonStyle(button_color='red'))\n",
    "    button_box = HBox([next_button, delete_button])\n",
    "    next_button.on_click(on_next_clicked)\n",
    "    delete_button.on_click(on_delete_clicked)\n",
    "    # Display first event --> event_index is set to zero for the start\n",
    "    # In case of erros or interruptions, provide another event index to the display_initial_event function\n",
    "    display_initial_event(event_index_p=0)\n",
    "    \n",
    "elif COMPONENT_NAME == \"heater\":\n",
    "    \n",
    "    # Simply select all the events on saturdays to be heater events. we only label the on-events\n",
    "    # We have investigated the data (product events) and no other events can be found on saturdays\n",
    "\n",
    "    # Get the Saturday dates\n",
    "    day_information_df = current_CREAM_day.get_weekday_information(date=ALL_DAYS)\n",
    "    saturdays = day_information_df[day_information_df.Weekday == \"Saturday\"].Date.values\n",
    "    \n",
    "    # Filter for the On-Events and the saturdays in the component events\n",
    "    mask = (COMPONENTS_DF.Event_Type == \"On\") & (COMPONENTS_DF.Date.isin(saturdays))\n",
    "    COMPONENTS_DF.at[mask, \"Component\"] = \"heater\"\n",
    "    \n",
    "    # To signal that everything is finished\n",
    "    EVENTS_TO_LABEL_DF = []\n",
    "    \n",
    "    print(\"The heating events have been labeled and saved!\")\n",
    "else:\n",
    "    raise ValueError(\"Component name is not available! Please use either millingplant, heater or pump\")"
   ]
  }
 ],
 "metadata": {
  "kernelspec": {
   "display_name": "Python 3",
   "language": "python",
   "name": "python3"
  },
  "language_info": {
   "codemirror_mode": {
    "name": "ipython",
    "version": 3
   },
   "file_extension": ".py",
   "mimetype": "text/x-python",
   "name": "python",
   "nbconvert_exporter": "python",
   "pygments_lexer": "ipython3",
   "version": "3.7.5"
  },
  "varInspector": {
   "cols": {
    "lenName": 16,
    "lenType": 16,
    "lenVar": 40
   },
   "kernels_config": {
    "python": {
     "delete_cmd_postfix": "",
     "delete_cmd_prefix": "del ",
     "library": "var_list.py",
     "varRefreshCmd": "print(var_dic_list())"
    },
    "r": {
     "delete_cmd_postfix": ") ",
     "delete_cmd_prefix": "rm(",
     "library": "var_list.r",
     "varRefreshCmd": "cat(var_dic_list()) "
    }
   },
   "position": {
    "height": "615.208px",
    "left": "2491.67px",
    "right": "20px",
    "top": "120px",
    "width": "332.778px"
   },
   "types_to_exclude": [
    "module",
    "function",
    "builtin_function_or_method",
    "instance",
    "_Feature"
   ],
   "window_display": true
  }
 },
 "nbformat": 4,
 "nbformat_minor": 2
}
