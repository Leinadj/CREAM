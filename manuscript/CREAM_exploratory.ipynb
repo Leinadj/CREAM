{
 "cells": [
  {
   "cell_type": "code",
   "execution_count": 1,
   "metadata": {},
   "outputs": [],
   "source": [
    "import numpy as np\n",
    "import matplotlib.pyplot as plt\n",
    "import matplotlib.dates as mdates\n",
    "import h5py\n",
    "import pandas as pd\n",
    "import os\n",
    "import sys\n",
    "from pathlib import Path\n",
    "from datetime import datetime\n",
    "from datetime import timedelta\n",
    "import math\n",
    "import pdb\n",
    "import scipy\n",
    "# Add project path to path for import\n",
    "project_path = os.path.abspath(\"..\")\n",
    "if project_path not in sys.path:\n",
    "    sys.path.append(project_path)\n",
    "\n",
    "# Add module path to path for import\n",
    "module_path = os.path.abspath(\"../data_utility/data_utility.py\")\n",
    "if module_path not in sys.path:\n",
    "    sys.path.append(module_path)\n",
    "    \n",
    "from data_utility import CREAM_Day # class to work with a day of the CREAM Dataset\n",
    "\n",
    "%matplotlib notebook\n",
    "# Intentional replication is necessary\n",
    "%matplotlib notebook\n",
    "%load_ext autoreload\n",
    "# Reload all modules every time before executing the Python code typed.\n",
    "%autoreload 2 \n",
    "# Import some graphical modules\n",
    "from IPython.display import display, clear_output\n",
    "from ipywidgets import Button, Layout, ButtonStyle, HBox, VBox, widgets, Output\n",
    "from IPython.display import SVG, display, clear_output\n",
    "\n",
    "import subprocess\n",
    "import glob"
   ]
  },
  {
   "cell_type": "code",
   "execution_count": 5,
   "metadata": {},
   "outputs": [],
   "source": [
    "PATH_TO_DATA = os.path.abspath(os.path.join(\"..\", \"..\", \"Datasets\", \"CREAM\", \"CREAM_6400\"))\n",
    "ALL_DAYS = [\"2018-08-23\" , \"2018-08-24\" , \"2018-08-25\",  \"2018-08-26\" , \"2018-08-27\" , \"2018-08-28\" ,\n",
    "\"2018-08-29\", \"2018-08-30\", \"2018-08-31\", \"2018-09-01\", \"2018-09-02\" , \"2018-09-03\" ,  \"2018-09-04\" ,\n",
    "\"2018-09-05\", \"2018-09-06\", \"2018-09-07\", \"2018-09-08\" , \"2018-09-09\" , \"2018-09-10\", \"2018-09-11\", \"2018-09-12\" \n",
    "\"2018-09-13\" ,\"2018-09-14\" ,\"2018-09-15\" ,  \"2018-09-16\", \"2018-09-17\", \"2018-09-18\",\"2018-09-19\"  , \"2018-09-20\" ,\n",
    "\"2018-09-21\" , \"2018-09-22\" ,  \"2018-09-23\" ,\"2018-09-24\" ,\"2018-09-25\" ,\"2018-09-26\" , \"2018-09-27\", \"2018-09-28\" ,\n",
    "\"2018-09-29\" , \"2018-09-30\" , \"2018-10-01\" ,\"2018-10-02\" , \"2018-10-03\" ,\"2018-10-04\", \"2018-10-05\" , \"2018-10-06\" ,\n",
    "\"2018-10-07\", \"2018-10-08\" ]"
   ]
  },
  {
   "cell_type": "code",
   "execution_count": 36,
   "metadata": {},
   "outputs": [],
   "source": [
    "#necessary for the plotting\n",
    "# Load the events \n",
    "day_path = os.path.join(PATH_TO_DATA, \"2018-08-24\") #arbitrary day to initialize the object\n",
    "current_CREAM_day = CREAM_Day(cream_day_location=day_path,use_buffer=True, buffer_size_files=2) \n",
    "\n",
    "# Load the electrical component events (the raw ones)\n",
    "all_component_events = current_CREAM_day.load_component_events(os.path.join(PATH_TO_DATA, \"component_events.csv\"), raw_file=False, filter_day=False)\n",
    "\n",
    "# Load the product and the maintenance events (the raw ones, per minute events) and filter for the day\n",
    "all_maintenance_events = current_CREAM_day.load_machine_events(os.path.join(PATH_TO_DATA, \"maintenance_events.csv\"), raw_file=False, filter_day=False)\n",
    "all_product_events = current_CREAM_day.load_machine_events(os.path.join(PATH_TO_DATA, \"product_events.csv\"), raw_file=False, filter_day=False)\n"
   ]
  },
  {
   "cell_type": "markdown",
   "metadata": {},
   "source": [
    "# Analyse the events on Saturdays and Sundays"
   ]
  },
  {
   "cell_type": "code",
   "execution_count": 37,
   "metadata": {},
   "outputs": [
    {
     "data": {
      "text/html": [
       "<div>\n",
       "<style scoped>\n",
       "    .dataframe tbody tr th:only-of-type {\n",
       "        vertical-align: middle;\n",
       "    }\n",
       "\n",
       "    .dataframe tbody tr th {\n",
       "        vertical-align: top;\n",
       "    }\n",
       "\n",
       "    .dataframe thead th {\n",
       "        text-align: right;\n",
       "    }\n",
       "</style>\n",
       "<table border=\"1\" class=\"dataframe\">\n",
       "  <thead>\n",
       "    <tr style=\"text-align: right;\">\n",
       "      <th></th>\n",
       "      <th>Unnamed: 0</th>\n",
       "      <th>Start_Timestamp</th>\n",
       "      <th>Automatic_Timestamp</th>\n",
       "      <th>Event_Type</th>\n",
       "      <th>End_Timestamp</th>\n",
       "      <th>Event_Duration_Seconds</th>\n",
       "      <th>Date</th>\n",
       "    </tr>\n",
       "  </thead>\n",
       "  <tbody>\n",
       "  </tbody>\n",
       "</table>\n",
       "</div>"
      ],
      "text/plain": [
       "Empty DataFrame\n",
       "Columns: [Unnamed: 0, Start_Timestamp, Automatic_Timestamp, Event_Type, End_Timestamp, Event_Duration_Seconds, Date]\n",
       "Index: []"
      ]
     },
     "execution_count": 37,
     "metadata": {},
     "output_type": "execute_result"
    }
   ],
   "source": [
    "# Get the Saturday dates and check the amount of product events on this day\n",
    "day_information_df = current_CREAM_day.get_weekday_information(date=ALL_DAYS)\n",
    "saturdays = day_information_df[day_information_df.Weekday == \"Saturday\"].Date.values\n",
    "mask = all_product_events.Date.isin(saturdays)\n",
    "product_events = all_product_events[mask]\n",
    "product_events"
   ]
  },
  {
   "cell_type": "code",
   "execution_count": 38,
   "metadata": {},
   "outputs": [
    {
     "data": {
      "text/html": [
       "<div>\n",
       "<style scoped>\n",
       "    .dataframe tbody tr th:only-of-type {\n",
       "        vertical-align: middle;\n",
       "    }\n",
       "\n",
       "    .dataframe tbody tr th {\n",
       "        vertical-align: top;\n",
       "    }\n",
       "\n",
       "    .dataframe thead th {\n",
       "        text-align: right;\n",
       "    }\n",
       "</style>\n",
       "<table border=\"1\" class=\"dataframe\">\n",
       "  <thead>\n",
       "    <tr style=\"text-align: right;\">\n",
       "      <th></th>\n",
       "      <th>Unnamed: 0</th>\n",
       "      <th>Start_Timestamp</th>\n",
       "      <th>Automatic_Timestamp</th>\n",
       "      <th>Event_Type</th>\n",
       "      <th>End_Timestamp</th>\n",
       "      <th>Event_Duration_Seconds</th>\n",
       "      <th>Date</th>\n",
       "    </tr>\n",
       "  </thead>\n",
       "  <tbody>\n",
       "  </tbody>\n",
       "</table>\n",
       "</div>"
      ],
      "text/plain": [
       "Empty DataFrame\n",
       "Columns: [Unnamed: 0, Start_Timestamp, Automatic_Timestamp, Event_Type, End_Timestamp, Event_Duration_Seconds, Date]\n",
       "Index: []"
      ]
     },
     "execution_count": 38,
     "metadata": {},
     "output_type": "execute_result"
    }
   ],
   "source": [
    "# Get the Sunday dates and check the amount of product events on this day\n",
    "day_information_df = current_CREAM_day.get_weekday_information(date=ALL_DAYS)\n",
    "sundays = day_information_df[day_information_df.Weekday == \"Sunday\"].Date.values\n",
    "mask = all_product_events.Date.isin(sundays)\n",
    "product_events = all_product_events[mask]\n",
    "product_events"
   ]
  },
  {
   "cell_type": "code",
   "execution_count": 39,
   "metadata": {},
   "outputs": [
    {
     "data": {
      "text/html": [
       "<div>\n",
       "<style scoped>\n",
       "    .dataframe tbody tr th:only-of-type {\n",
       "        vertical-align: middle;\n",
       "    }\n",
       "\n",
       "    .dataframe tbody tr th {\n",
       "        vertical-align: top;\n",
       "    }\n",
       "\n",
       "    .dataframe thead th {\n",
       "        text-align: right;\n",
       "    }\n",
       "</style>\n",
       "<table border=\"1\" class=\"dataframe\">\n",
       "  <thead>\n",
       "    <tr style=\"text-align: right;\">\n",
       "      <th></th>\n",
       "      <th>Unnamed: 0</th>\n",
       "      <th>Start_Timestamp</th>\n",
       "      <th>Automatic_Timestamp</th>\n",
       "      <th>Event_Type</th>\n",
       "      <th>End_Timestamp</th>\n",
       "      <th>Event_Duration_Seconds</th>\n",
       "      <th>Date</th>\n",
       "    </tr>\n",
       "  </thead>\n",
       "  <tbody>\n",
       "  </tbody>\n",
       "</table>\n",
       "</div>"
      ],
      "text/plain": [
       "Empty DataFrame\n",
       "Columns: [Unnamed: 0, Start_Timestamp, Automatic_Timestamp, Event_Type, End_Timestamp, Event_Duration_Seconds, Date]\n",
       "Index: []"
      ]
     },
     "execution_count": 39,
     "metadata": {},
     "output_type": "execute_result"
    }
   ],
   "source": [
    "# Get the Saturday dates and check the amount of maintenance events on this day\n",
    "day_information_df = current_CREAM_day.get_weekday_information(date=ALL_DAYS)\n",
    "saturdays = day_information_df[day_information_df.Weekday == \"Saturday\"].Date.values\n",
    "mask = all_maintenance_events.Date.isin(saturdays)\n",
    "maintenance_events = all_maintenance_events[mask]\n",
    "maintenance_events"
   ]
  },
  {
   "cell_type": "code",
   "execution_count": 40,
   "metadata": {
    "scrolled": false
   },
   "outputs": [
    {
     "data": {
      "text/html": [
       "<div>\n",
       "<style scoped>\n",
       "    .dataframe tbody tr th:only-of-type {\n",
       "        vertical-align: middle;\n",
       "    }\n",
       "\n",
       "    .dataframe tbody tr th {\n",
       "        vertical-align: top;\n",
       "    }\n",
       "\n",
       "    .dataframe thead th {\n",
       "        text-align: right;\n",
       "    }\n",
       "</style>\n",
       "<table border=\"1\" class=\"dataframe\">\n",
       "  <thead>\n",
       "    <tr style=\"text-align: right;\">\n",
       "      <th></th>\n",
       "      <th>Unnamed: 0</th>\n",
       "      <th>Start_Timestamp</th>\n",
       "      <th>Automatic_Timestamp</th>\n",
       "      <th>Event_Type</th>\n",
       "      <th>End_Timestamp</th>\n",
       "      <th>Event_Duration_Seconds</th>\n",
       "      <th>Date</th>\n",
       "    </tr>\n",
       "  </thead>\n",
       "  <tbody>\n",
       "  </tbody>\n",
       "</table>\n",
       "</div>"
      ],
      "text/plain": [
       "Empty DataFrame\n",
       "Columns: [Unnamed: 0, Start_Timestamp, Automatic_Timestamp, Event_Type, End_Timestamp, Event_Duration_Seconds, Date]\n",
       "Index: []"
      ]
     },
     "execution_count": 40,
     "metadata": {},
     "output_type": "execute_result"
    }
   ],
   "source": [
    "# Get the Saturday dates and check the amount of maintenance events on this day\n",
    "day_information_df = current_CREAM_day.get_weekday_information(date=ALL_DAYS)\n",
    "sundays = day_information_df[day_information_df.Weekday == \"Sunday\"].Date.values\n",
    "mask = all_maintenance_events.Date.isin(sundays)\n",
    "maintenance_events = all_maintenance_events[mask]\n",
    "maintenance_events"
   ]
  },
  {
   "cell_type": "code",
   "execution_count": 41,
   "metadata": {
    "scrolled": true
   },
   "outputs": [
    {
     "name": "stderr",
     "output_type": "stream",
     "text": [
      "/Users/daniel/anaconda3/lib/python3.7/site-packages/pandas/core/generic.py:5208: SettingWithCopyWarning: \n",
      "A value is trying to be set on a copy of a slice from a DataFrame.\n",
      "Try using .loc[row_indexer,col_indexer] = value instead\n",
      "\n",
      "See the caveats in the documentation: http://pandas.pydata.org/pandas-docs/stable/user_guide/indexing.html#returning-a-view-versus-a-copy\n",
      "  self[name] = value\n"
     ]
    },
    {
     "data": {
      "text/html": [
       "<div>\n",
       "<style scoped>\n",
       "    .dataframe tbody tr th:only-of-type {\n",
       "        vertical-align: middle;\n",
       "    }\n",
       "\n",
       "    .dataframe tbody tr th {\n",
       "        vertical-align: top;\n",
       "    }\n",
       "\n",
       "    .dataframe thead th {\n",
       "        text-align: right;\n",
       "    }\n",
       "</style>\n",
       "<table border=\"1\" class=\"dataframe\">\n",
       "  <thead>\n",
       "    <tr style=\"text-align: right;\">\n",
       "      <th></th>\n",
       "      <th>Filename</th>\n",
       "      <th>Timestamp</th>\n",
       "      <th>Amplitude</th>\n",
       "      <th>Event_type</th>\n",
       "      <th>ID</th>\n",
       "      <th>Component</th>\n",
       "      <th>Date</th>\n",
       "    </tr>\n",
       "  </thead>\n",
       "  <tbody>\n",
       "    <tr>\n",
       "      <th>32458</th>\n",
       "      <td>coffee-maker-2018-09-08T06-00-04.005645T+0200-...</td>\n",
       "      <td>2018-09-08 06:00:24.748770+02:00</td>\n",
       "      <td>0</td>\n",
       "      <td>On</td>\n",
       "      <td>32521</td>\n",
       "      <td>heater</td>\n",
       "      <td>2018-09-08</td>\n",
       "    </tr>\n",
       "    <tr>\n",
       "      <th>32459</th>\n",
       "      <td>coffee-maker-2018-09-08T06-00-04.005645T+0200-...</td>\n",
       "      <td>2018-09-08 06:00:26.877832+02:00</td>\n",
       "      <td>6</td>\n",
       "      <td>Off</td>\n",
       "      <td>32522</td>\n",
       "      <td>heater</td>\n",
       "      <td>2018-09-08</td>\n",
       "    </tr>\n",
       "    <tr>\n",
       "      <th>32460</th>\n",
       "      <td>coffee-maker-2018-09-08T06-00-04.005645T+0200-...</td>\n",
       "      <td>2018-09-08 06:01:38.200176+02:00</td>\n",
       "      <td>0</td>\n",
       "      <td>On</td>\n",
       "      <td>32523</td>\n",
       "      <td>heater</td>\n",
       "      <td>2018-09-08</td>\n",
       "    </tr>\n",
       "    <tr>\n",
       "      <th>32461</th>\n",
       "      <td>coffee-maker-2018-09-08T06-00-04.005645T+0200-...</td>\n",
       "      <td>2018-09-08 06:01:40.595332+02:00</td>\n",
       "      <td>13</td>\n",
       "      <td>Off</td>\n",
       "      <td>32524</td>\n",
       "      <td>heater</td>\n",
       "      <td>2018-09-08</td>\n",
       "    </tr>\n",
       "    <tr>\n",
       "      <th>32462</th>\n",
       "      <td>coffee-maker-2018-09-08T06-00-04.005645T+0200-...</td>\n",
       "      <td>2018-09-08 06:02:30.603614+02:00</td>\n",
       "      <td>-1</td>\n",
       "      <td>On</td>\n",
       "      <td>32525</td>\n",
       "      <td>heater</td>\n",
       "      <td>2018-09-08</td>\n",
       "    </tr>\n",
       "    <tr>\n",
       "      <th>...</th>\n",
       "      <td>...</td>\n",
       "      <td>...</td>\n",
       "      <td>...</td>\n",
       "      <td>...</td>\n",
       "      <td>...</td>\n",
       "      <td>...</td>\n",
       "      <td>...</td>\n",
       "    </tr>\n",
       "    <tr>\n",
       "      <th>77152</th>\n",
       "      <td>coffee-maker-2018-09-29T09-00-03.639648T+0200-...</td>\n",
       "      <td>2018-09-29 09:38:13.428554+02:00</td>\n",
       "      <td>6</td>\n",
       "      <td>Off</td>\n",
       "      <td>77363</td>\n",
       "      <td>heater</td>\n",
       "      <td>2018-09-29</td>\n",
       "    </tr>\n",
       "    <tr>\n",
       "      <th>77153</th>\n",
       "      <td>coffee-maker-2018-09-29T09-00-03.639648T+0200-...</td>\n",
       "      <td>2018-09-29 09:39:21.557460+02:00</td>\n",
       "      <td>0</td>\n",
       "      <td>On</td>\n",
       "      <td>77364</td>\n",
       "      <td>heater</td>\n",
       "      <td>2018-09-29</td>\n",
       "    </tr>\n",
       "    <tr>\n",
       "      <th>77154</th>\n",
       "      <td>coffee-maker-2018-09-29T09-00-03.639648T+0200-...</td>\n",
       "      <td>2018-09-29 09:39:23.154179+02:00</td>\n",
       "      <td>6</td>\n",
       "      <td>Off</td>\n",
       "      <td>77365</td>\n",
       "      <td>heater</td>\n",
       "      <td>2018-09-29</td>\n",
       "    </tr>\n",
       "    <tr>\n",
       "      <th>77155</th>\n",
       "      <td>coffee-maker-2018-09-29T09-00-03.639648T+0200-...</td>\n",
       "      <td>2018-09-29 09:40:34.452617+02:00</td>\n",
       "      <td>0</td>\n",
       "      <td>On</td>\n",
       "      <td>77366</td>\n",
       "      <td>heater</td>\n",
       "      <td>2018-09-29</td>\n",
       "    </tr>\n",
       "    <tr>\n",
       "      <th>77156</th>\n",
       "      <td>coffee-maker-2018-09-29T09-00-03.639648T+0200-...</td>\n",
       "      <td>2018-09-29 09:40:36.581679+02:00</td>\n",
       "      <td>6</td>\n",
       "      <td>Off</td>\n",
       "      <td>77367</td>\n",
       "      <td>heater</td>\n",
       "      <td>2018-09-29</td>\n",
       "    </tr>\n",
       "  </tbody>\n",
       "</table>\n",
       "<p>1923 rows × 7 columns</p>\n",
       "</div>"
      ],
      "text/plain": [
       "                                                Filename  \\\n",
       "32458  coffee-maker-2018-09-08T06-00-04.005645T+0200-...   \n",
       "32459  coffee-maker-2018-09-08T06-00-04.005645T+0200-...   \n",
       "32460  coffee-maker-2018-09-08T06-00-04.005645T+0200-...   \n",
       "32461  coffee-maker-2018-09-08T06-00-04.005645T+0200-...   \n",
       "32462  coffee-maker-2018-09-08T06-00-04.005645T+0200-...   \n",
       "...                                                  ...   \n",
       "77152  coffee-maker-2018-09-29T09-00-03.639648T+0200-...   \n",
       "77153  coffee-maker-2018-09-29T09-00-03.639648T+0200-...   \n",
       "77154  coffee-maker-2018-09-29T09-00-03.639648T+0200-...   \n",
       "77155  coffee-maker-2018-09-29T09-00-03.639648T+0200-...   \n",
       "77156  coffee-maker-2018-09-29T09-00-03.639648T+0200-...   \n",
       "\n",
       "                             Timestamp  Amplitude Event_type     ID Component  \\\n",
       "32458 2018-09-08 06:00:24.748770+02:00          0         On  32521    heater   \n",
       "32459 2018-09-08 06:00:26.877832+02:00          6        Off  32522    heater   \n",
       "32460 2018-09-08 06:01:38.200176+02:00          0         On  32523    heater   \n",
       "32461 2018-09-08 06:01:40.595332+02:00         13        Off  32524    heater   \n",
       "32462 2018-09-08 06:02:30.603614+02:00         -1         On  32525    heater   \n",
       "...                                ...        ...        ...    ...       ...   \n",
       "77152 2018-09-29 09:38:13.428554+02:00          6        Off  77363    heater   \n",
       "77153 2018-09-29 09:39:21.557460+02:00          0         On  77364    heater   \n",
       "77154 2018-09-29 09:39:23.154179+02:00          6        Off  77365    heater   \n",
       "77155 2018-09-29 09:40:34.452617+02:00          0         On  77366    heater   \n",
       "77156 2018-09-29 09:40:36.581679+02:00          6        Off  77367    heater   \n",
       "\n",
       "             Date  \n",
       "32458  2018-09-08  \n",
       "32459  2018-09-08  \n",
       "32460  2018-09-08  \n",
       "32461  2018-09-08  \n",
       "32462  2018-09-08  \n",
       "...           ...  \n",
       "77152  2018-09-29  \n",
       "77153  2018-09-29  \n",
       "77154  2018-09-29  \n",
       "77155  2018-09-29  \n",
       "77156  2018-09-29  \n",
       "\n",
       "[1923 rows x 7 columns]"
      ]
     },
     "execution_count": 41,
     "metadata": {},
     "output_type": "execute_result"
    }
   ],
   "source": [
    "# Get the Saturday dates and check the amount of component events on this day\n",
    "day_information_df = current_CREAM_day.get_weekday_information(date=ALL_DAYS)\n",
    "saturdays = day_information_df[day_information_df.Weekday == \"Saturday\"].Date.values\n",
    "mask = all_component_events.Date.isin(saturdays)\n",
    "component_events = all_component_events[mask]\n",
    "component_events"
   ]
  },
  {
   "cell_type": "code",
   "execution_count": 43,
   "metadata": {},
   "outputs": [
    {
     "name": "stderr",
     "output_type": "stream",
     "text": [
      "/Users/daniel/anaconda3/lib/python3.7/site-packages/pandas/core/generic.py:5208: SettingWithCopyWarning: \n",
      "A value is trying to be set on a copy of a slice from a DataFrame.\n",
      "Try using .loc[row_indexer,col_indexer] = value instead\n",
      "\n",
      "See the caveats in the documentation: http://pandas.pydata.org/pandas-docs/stable/user_guide/indexing.html#returning-a-view-versus-a-copy\n",
      "  self[name] = value\n"
     ]
    },
    {
     "data": {
      "text/html": [
       "<div>\n",
       "<style scoped>\n",
       "    .dataframe tbody tr th:only-of-type {\n",
       "        vertical-align: middle;\n",
       "    }\n",
       "\n",
       "    .dataframe tbody tr th {\n",
       "        vertical-align: top;\n",
       "    }\n",
       "\n",
       "    .dataframe thead th {\n",
       "        text-align: right;\n",
       "    }\n",
       "</style>\n",
       "<table border=\"1\" class=\"dataframe\">\n",
       "  <thead>\n",
       "    <tr style=\"text-align: right;\">\n",
       "      <th></th>\n",
       "      <th>Filename</th>\n",
       "      <th>Timestamp</th>\n",
       "      <th>Amplitude</th>\n",
       "      <th>Event_type</th>\n",
       "      <th>ID</th>\n",
       "      <th>Component</th>\n",
       "      <th>Date</th>\n",
       "    </tr>\n",
       "  </thead>\n",
       "  <tbody>\n",
       "  </tbody>\n",
       "</table>\n",
       "</div>"
      ],
      "text/plain": [
       "Empty DataFrame\n",
       "Columns: [Filename, Timestamp, Amplitude, Event_type, ID, Component, Date]\n",
       "Index: []"
      ]
     },
     "execution_count": 43,
     "metadata": {},
     "output_type": "execute_result"
    }
   ],
   "source": [
    "# Get the Sundays dates and check the amount of component events on this day\n",
    "day_information_df = current_CREAM_day.get_weekday_information(date=ALL_DAYS)\n",
    "sundays = day_information_df[day_information_df.Weekday == \"Sunday\"].Date.values\n",
    "mask = all_component_events.Date.isin(sundays)\n",
    "component_events = all_component_events[mask]\n",
    "component_events"
   ]
  },
  {
   "cell_type": "markdown",
   "metadata": {},
   "source": [
    "<p> <b> There are no events on Saturdays and Sundays, where the coffee system was rinsed, most likely by a clearning lady. Hence, except this event, we can treat all other events that happen on this this to be heater events.  </b> </p>"
   ]
  }
 ],
 "metadata": {
  "kernelspec": {
   "display_name": "Python 3",
   "language": "python",
   "name": "python3"
  },
  "language_info": {
   "codemirror_mode": {
    "name": "ipython",
    "version": 3
   },
   "file_extension": ".py",
   "mimetype": "text/x-python",
   "name": "python",
   "nbconvert_exporter": "python",
   "pygments_lexer": "ipython3",
   "version": "3.7.6"
  },
  "varInspector": {
   "cols": {
    "lenName": 16,
    "lenType": 16,
    "lenVar": 40
   },
   "kernels_config": {
    "python": {
     "delete_cmd_postfix": "",
     "delete_cmd_prefix": "del ",
     "library": "var_list.py",
     "varRefreshCmd": "print(var_dic_list())"
    },
    "r": {
     "delete_cmd_postfix": ") ",
     "delete_cmd_prefix": "rm(",
     "library": "var_list.r",
     "varRefreshCmd": "cat(var_dic_list()) "
    }
   },
   "types_to_exclude": [
    "module",
    "function",
    "builtin_function_or_method",
    "instance",
    "_Feature"
   ],
   "window_display": false
  }
 },
 "nbformat": 4,
 "nbformat_minor": 1
}
