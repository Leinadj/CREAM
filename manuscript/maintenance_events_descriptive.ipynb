{
 "cells": [
  {
   "cell_type": "code",
   "execution_count": 4,
   "metadata": {},
   "outputs": [],
   "source": [
    "import numpy as np\n",
    "import matplotlib.pyplot as plt\n",
    "import matplotlib.dates as mdates\n",
    "import h5py\n",
    "import pandas as pd\n",
    "import os\n",
    "import sys\n",
    "from pathlib import Path\n",
    "from datetime import datetime\n",
    "from datetime import timedelta\n",
    "import math\n",
    "import pdb\n",
    "import scipy\n",
    "# Add project path to path for import\n",
    "project_path = os.path.abspath(\"..\")\n",
    "if project_path not in sys.path:\n",
    "    sys.path.append(project_path)\n",
    "\n",
    "# Add module path to path for import\n",
    "module_path = os.path.abspath(\"../data_utility/data_utility.py\")\n",
    "if module_path not in sys.path:\n",
    "    sys.path.append(module_path)\n",
    "    \n",
    "from data_utility import CREAM_Day # class to work with a day of the CREAM Dataset\n",
    "import glob"
   ]
  },
  {
   "cell_type": "code",
   "execution_count": 5,
   "metadata": {},
   "outputs": [],
   "source": [
    "PATH_TO_DATA = os.path.abspath(os.path.join(\"..\", \"..\", \"Datasets\", \"CREAM\"))\n",
    "ALL_DAYS = [\"2018-08-23\" , \"2018-08-24\" , \"2018-08-25\",  \"2018-08-26\" , \"2018-08-27\" , \"2018-08-28\" ,\n",
    "\"2018-08-29\", \"2018-08-30\", \"2018-08-31\", \"2018-09-01\", \"2018-09-02\" , \"2018-09-03\" ,  \"2018-09-04\" ,\n",
    "\"2018-09-05\", \"2018-09-06\", \"2018-09-07\", \"2018-09-08\" , \"2018-09-09\" , \"2018-09-10\", \"2018-09-11\", \"2018-09-12\" \n",
    "\"2018-09-13\" ,\"2018-09-14\" ,\"2018-09-15\" ,  \"2018-09-16\", \"2018-09-17\", \"2018-09-18\",\"2018-09-19\"  , \"2018-09-20\" ,\n",
    "\"2018-09-21\" , \"2018-09-22\" ,  \"2018-09-23\" ,\"2018-09-24\" ,\"2018-09-25\" ,\"2018-09-26\" , \"2018-09-27\", \"2018-09-28\" ,\n",
    "\"2018-09-29\" , \"2018-09-30\" , \"2018-10-01\" ,\"2018-10-02\" , \"2018-10-03\" ,\"2018-10-04\", \"2018-10-05\" , \"2018-10-06\" ,\n",
    "\"2018-10-07\", \"2018-10-08\" ]"
   ]
  },
  {
   "cell_type": "code",
   "execution_count": 6,
   "metadata": {},
   "outputs": [],
   "source": [
    "#Load the events \n",
    "day_path = os.path.join(PATH_TO_DATA, \"2018-08-24\") #arbitrary day to initialize the object\n",
    "current_CREAM_day = CREAM_Day(cream_day_location=day_path,use_buffer=True, buffer_size_files=2) \n",
    "\n",
    "# Load the electrical component events (the raw ones)\n",
    "all_component_events = current_CREAM_day.load_component_events(os.path.join(PATH_TO_DATA, \"component_events.csv\"), filter_day=False)\n",
    "\n",
    "all_maintenance_events = current_CREAM_day.load_machine_events(os.path.join(PATH_TO_DATA, \"maintenance_events.csv\"), raw_file=False, filter_day=False)\n"
   ]
  },
  {
   "cell_type": "code",
   "execution_count": 8,
   "metadata": {},
   "outputs": [
    {
     "data": {
      "text/plain": [
       "MillingPlantEspresso    1316\n",
       "MillingPlantCoffee      1008\n",
       "RinseMilkSystem          418\n",
       "CleanMilkSystem           47\n",
       "Time2Clean                47\n",
       "RinseCoffeeSystem         22\n",
       "Clean                      9\n",
       "Time2Descale               1\n",
       "Name: Event_Type, dtype: int64"
      ]
     },
     "execution_count": 8,
     "metadata": {},
     "output_type": "execute_result"
    }
   ],
   "source": [
    "all_maintenance_events.Event_Type.value_counts()"
   ]
  },
  {
   "cell_type": "code",
   "execution_count": null,
   "metadata": {},
   "outputs": [],
   "source": []
  }
 ],
 "metadata": {
  "kernelspec": {
   "display_name": "Python 3",
   "language": "python",
   "name": "python3"
  },
  "language_info": {
   "codemirror_mode": {
    "name": "ipython",
    "version": 3
   },
   "file_extension": ".py",
   "mimetype": "text/x-python",
   "name": "python",
   "nbconvert_exporter": "python",
   "pygments_lexer": "ipython3",
   "version": "3.7.6"
  },
  "varInspector": {
   "cols": {
    "lenName": 16,
    "lenType": 16,
    "lenVar": 40
   },
   "kernels_config": {
    "python": {
     "delete_cmd_postfix": "",
     "delete_cmd_prefix": "del ",
     "library": "var_list.py",
     "varRefreshCmd": "print(var_dic_list())"
    },
    "r": {
     "delete_cmd_postfix": ") ",
     "delete_cmd_prefix": "rm(",
     "library": "var_list.r",
     "varRefreshCmd": "cat(var_dic_list()) "
    }
   },
   "types_to_exclude": [
    "module",
    "function",
    "builtin_function_or_method",
    "instance",
    "_Feature"
   ],
   "window_display": false
  }
 },
 "nbformat": 4,
 "nbformat_minor": 4
}
