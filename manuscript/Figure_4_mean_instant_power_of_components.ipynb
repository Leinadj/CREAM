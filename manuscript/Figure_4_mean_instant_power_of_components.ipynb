{
 "cells": [
  {
   "cell_type": "markdown",
   "metadata": {},
   "source": [
    "# Notebook used to visualize the mean instantenous power consumed by the labeled electrical components, as depicted in the data descriptor"
   ]
  },
  {
   "cell_type": "markdown",
   "metadata": {},
   "source": [
    "## Load packages and basic dataset information"
   ]
  },
  {
   "cell_type": "code",
   "execution_count": null,
   "metadata": {},
   "outputs": [],
   "source": [
    "import numpy as np\n",
    "import matplotlib.pyplot as plt\n",
    "import matplotlib.dates as mdates\n",
    "from matplotlib import patches\n",
    "            \n",
    "import matplotlib\n",
    "%matplotlib inline\n",
    "\n",
    "import h5py\n",
    "import pandas as pd\n",
    "import os\n",
    "import sys\n",
    "from pathlib import Path\n",
    "from datetime import datetime\n",
    "from datetime import timedelta\n",
    "import math\n",
    "import seaborn as sns\n",
    "import pdb\n",
    "import scipy\n",
    "# Add project path to path for import\n",
    "project_path = os.path.abspath(\"..\")\n",
    "if project_path not in sys.path:\n",
    "    sys.path.append(project_path)\n",
    "\n",
    "# Add module path to path for import\n",
    "module_path = os.path.abspath(\"../data_utility/data_utility.py\")\n",
    "if module_path not in sys.path:\n",
    "    sys.path.append(module_path)\n",
    "    \n",
    "from data_utility import CREAM_Day # class to work with a day of the CREAM Dataset\n",
    "\n",
    "# Intentional replication is necessary\n",
    "%load_ext autoreload\n",
    "# Reload all modules every time before executing the Python code typed.\n",
    "%autoreload 2 \n",
    "# Import some graphical modules\n",
    "from IPython.display import display, clear_output\n",
    "from ipywidgets import Button, Layout, ButtonStyle, HBox, VBox, widgets, Output\n",
    "from IPython.display import SVG, display, clear_output\n",
    "\n",
    "import subprocess\n",
    "import glob"
   ]
  },
  {
   "cell_type": "code",
   "execution_count": null,
   "metadata": {},
   "outputs": [],
   "source": [
    "PATH_TO_DATA = os.path.abspath(os.path.join(\"..\", \"..\", \"Datasets\", \"CREAM\"))\n",
    "ALL_DAYS = [\"2018-08-23\" , \"2018-08-24\" , \"2018-08-25\",  \"2018-08-26\" , \"2018-08-27\" , \"2018-08-28\" ,\n",
    "\"2018-08-29\", \"2018-08-30\", \"2018-08-31\", \"2018-09-01\", \"2018-09-02\" , \"2018-09-03\" ,  \"2018-09-04\" ,\n",
    "\"2018-09-05\", \"2018-09-06\", \"2018-09-07\", \"2018-09-08\" , \"2018-09-09\" , \"2018-09-10\", \"2018-09-11\", \"2018-09-12\" \n",
    "\"2018-09-13\" ,\"2018-09-14\" ,\"2018-09-15\" ,  \"2018-09-16\", \"2018-09-17\", \"2018-09-18\",\"2018-09-19\"  , \"2018-09-20\" ,\n",
    "\"2018-09-21\" , \"2018-09-22\" ,  \"2018-09-23\" ,\"2018-09-24\" ,\"2018-09-25\" ,\"2018-09-26\" , \"2018-09-27\", \"2018-09-28\" ,\n",
    "\"2018-09-29\" , \"2018-09-30\" , \"2018-10-01\" ,\"2018-10-02\" , \"2018-10-03\" ,\"2018-10-04\", \"2018-10-05\" , \"2018-10-06\" ,\n",
    "\"2018-10-07\", \"2018-10-08\" ]"
   ]
  },
  {
   "cell_type": "code",
   "execution_count": null,
   "metadata": {},
   "outputs": [],
   "source": [
    "#necessary for the plotting\n",
    "# Load the events \n",
    "day_path = os.path.join(PATH_TO_DATA, \"2018-08-24\") #arbitrary day to initialize the object\n",
    "current_CREAM_day = CREAM_Day(cream_day_location=day_path,use_buffer=True, buffer_size_files=2) \n",
    "\n",
    "# Load the electrical component events (the raw ones)\n",
    "all_component_events = current_CREAM_day.load_component_events(os.path.join(PATH_TO_DATA, \"component_events.csv\"), filter_day=False)\n",
    "\n",
    "# Load the product and the maintenance events (the raw ones, per minute events) and filter for the day\n",
    "all_maintenance_events = current_CREAM_day.load_machine_events(os.path.join(PATH_TO_DATA, \"maintenance_events.csv\"), raw_file=False, filter_day=False)\n",
    "all_product_events = current_CREAM_day.load_machine_events(os.path.join(PATH_TO_DATA, \"product_events.csv\"), raw_file=False, filter_day=False)\n"
   ]
  },
  {
   "cell_type": "markdown",
   "metadata": {},
   "source": [
    "# Plot the mean instantantenous power of the labeled electrical components, i.e., heater, millingplant and pump"
   ]
  },
  {
   "cell_type": "markdown",
   "metadata": {},
   "source": [
    "### Due to the number of heater events, we sample 100 events of each component to compute the mean power"
   ]
  },
  {
   "cell_type": "code",
   "execution_count": null,
   "metadata": {},
   "outputs": [],
   "source": [
    "mean_instant_power_list = []\n",
    "component_list = []\n",
    "x_axis = [] # x-axis, first component at 1, second at 2, third at 3\n",
    "for index, component in enumerate( np.unique(all_component_events.Component), start=1):\n",
    "    if component == \"unlabeled\": #skip the unlabeled ones\n",
    "        continue\n",
    "        \n",
    "    component_events = all_component_events[all_component_events.Component == component]\n",
    "    \n",
    "    component_events = component_events.sample(n=100, random_state=10)\n",
    "    # for efficienfy reasons, iterate over each day separately\n",
    "    for day_date in np.unique(component_events.Date):\n",
    "              \n",
    "        for event in component_events[component_events.Date == day_date].itertuples():\n",
    "            cream_day = CREAM_Day(cream_day_location=os.path.join(PATH_TO_DATA, str(day_date)), use_buffer=True, buffer_size_files=10)\n",
    "            voltage, current = cream_day.load_time_frame(event.Timestamp, duration=0.5, return_noise=False)\n",
    "            instant_power = voltage * current\n",
    "            mean_instant_power_list.append(np.mean(instant_power))\n",
    "            component_list.append(component)\n",
    "            x_axis.append(index)\n",
    "\n",
    "component_list = np.array(component_list)\n",
    "mean_instant_power_list = np.array(mean_instant_power_list)\n"
   ]
  },
  {
   "cell_type": "code",
   "execution_count": 8,
   "metadata": {},
   "outputs": [
    {
     "data": {
      "image/png": "[encoded data removed]",
      "text/plain": [
       "<Figure size 1080x360 with 3 Axes>"
      ]
     },
     "metadata": {
      "needs_background": "light"
     },
     "output_type": "display_data"
    }
   ],
   "source": [
    "fig, ax = plt.subplots(1, 3, figsize=(15,5), sharex=True, sharey=True)\n",
    "for i, component in enumerate(np.unique(component_list)):\n",
    "    mask = np.where(component_list == component)[0]\n",
    "    hist, bins = np.histogram(mean_instant_power_list[mask], bins=30)\n",
    "    biggest_bin = np.argmax(hist) # get biggest bin and its value\n",
    "    x, y, _ = ax[i].hist(mean_instant_power_list[mask], bins, color=\"b\")\n",
    "   \n",
    "    max_bin = np.argmax(x)\n",
    "    max_value = y[max_bin]\n",
    "    \n",
    "    \n",
    "    ax[i].set_title(component, fontsize=18)\n",
    "    ax[i].set_ylim(0,60)\n",
    "    ax[i].set_ylabel(\"Samples\", fontsize=18)\n",
    "    ax[i].set_xlabel(\"Mean instantenous power,\\n with maximum bin at value %.2f\" %(max_value), fontsize=18)\n",
    "    ax[i].tick_params(axis='both', which='major', labelsize=14)\n",
    "    ax[i].tick_params(axis='both', which='minor', labelsize=10)\n",
    "\n",
    "fig.tight_layout()\n",
    "fig.savefig(\"./Figure_4.pdf\")\n",
    "plt.show()\n"
   ]
  },
  {
   "cell_type": "code",
   "execution_count": null,
   "metadata": {},
   "outputs": [],
   "source": []
  }
 ],
 "metadata": {
  "kernelspec": {
   "display_name": "Python 3",
   "language": "python",
   "name": "python3"
  },
  "language_info": {
   "codemirror_mode": {
    "name": "ipython",
    "version": 3
   },
   "file_extension": ".py",
   "mimetype": "text/x-python",
   "name": "python",
   "nbconvert_exporter": "python",
   "pygments_lexer": "ipython3",
   "version": "3.7.6"
  },
  "varInspector": {
   "cols": {
    "lenName": 16,
    "lenType": 16,
    "lenVar": 40
   },
   "kernels_config": {
    "python": {
     "delete_cmd_postfix": "",
     "delete_cmd_prefix": "del ",
     "library": "var_list.py",
     "varRefreshCmd": "print(var_dic_list())"
    },
    "r": {
     "delete_cmd_postfix": ") ",
     "delete_cmd_prefix": "rm(",
     "library": "var_list.r",
     "varRefreshCmd": "cat(var_dic_list()) "
    }
   },
   "types_to_exclude": [
    "module",
    "function",
    "builtin_function_or_method",
    "instance",
    "_Feature"
   ],
   "window_display": false
  }
 },
 "nbformat": 4,
 "nbformat_minor": 4
}
