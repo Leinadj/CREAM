{
 "cells": [
  {
   "cell_type": "markdown",
   "metadata": {},
   "source": [
    "# Notebook to analyze various statistics of the labeled events\n",
    "# Furthermore, the events were visually inspected in the labeling notebooks to ensure their quality"
   ]
  },
  {
   "cell_type": "markdown",
   "metadata": {
    "collapsed": "true"
   },
   "source": [
    "## Import and Initialize Everything"
   ]
  },
  {
   "cell_type": "code",
   "execution_count": null,
   "metadata": {},
   "outputs": [],
   "source": [
    "import numpy as np\n",
    "import matplotlib\n",
    "import matplotlib.pyplot as plt\n",
    "import matplotlib.dates as mdates\n",
    "import h5py\n",
    "import pandas as pd\n",
    "import os\n",
    "import sys\n",
    "from pathlib import Path\n",
    "from datetime import datetime\n",
    "from datetime import timedelta\n",
    "import math\n",
    "import pdb\n",
    "import scipy\n",
    "# Add project path to path for import\n",
    "project_path = os.path.abspath(\"..\")\n",
    "if project_path not in sys.path:\n",
    "    sys.path.append(project_path)\n",
    "\n",
    "# Add module path to path for import\n",
    "module_path = os.path.abspath(\"../data_utility/data_utility.py\")\n",
    "if module_path not in sys.path:\n",
    "    sys.path.append(module_path)\n",
    "    \n",
    "from data_utility import CREAM_Day # class to work with a day of the CREAM Dataset\n",
    "import seaborn as sns\n",
    "%load_ext autoreload\n",
    "# Reload all modules every time before executing the Python code typed.\n",
    "%autoreload 2 \n",
    "# Import some graphical modules\n",
    "from IPython.display import display, clear_output\n",
    "from ipywidgets import Button, Layout, ButtonStyle, HBox, VBox, widgets, Output\n",
    "from IPython.display import SVG, display, clear_output\n",
    "%matplotlib widget\n",
    "import subprocess\n",
    "import glob"
   ]
  },
  {
   "cell_type": "code",
   "execution_count": null,
   "metadata": {},
   "outputs": [],
   "source": [
    "machine = \"X8\"\n",
    "PATH_TO_DATA = os.path.abspath(os.path.join(\"..\", \"..\",\"rbgstorage\", \"nilm\", \"i13-dataset\", \"CREAM\", machine))\n",
    "ALL_DAYS = glob.glob(os.path.join(PATH_TO_DATA, \"*\"))\n",
    "ALL_DAYS = [os.path.basename(d) for d in ALL_DAYS if \"2018\" in os.path.basename(d)  or \"2019\" in os.path.basename(d)  ]\n",
    "ALL_DAYS.sort()"
   ]
  },
  {
   "cell_type": "markdown",
   "metadata": {},
   "source": [
    "## Load the Event Files"
   ]
  },
  {
   "cell_type": "code",
   "execution_count": null,
   "metadata": {},
   "outputs": [],
   "source": [
    "#necessary for the plotting\n",
    "# Load the events \n",
    "day_path = os.path.join(PATH_TO_DATA, ALL_DAYS[0]) #arbitrary day to initialize the object\n",
    "current_CREAM_day = CREAM_Day(cream_day_location=day_path,use_buffer=True, buffer_size_files=2) \n",
    "\n",
    "if machine == \"X9\":\n",
    "    all_component_events_fine = current_CREAM_day.load_component_events(os.path.join(PATH_TO_DATA, \"component_events_fine.csv\"), filter_day=False)\n",
    "    all_component_events_coarse = current_CREAM_day.load_component_events(os.path.join(PATH_TO_DATA, \"component_events_coarse.csv\"), filter_day=False)\n",
    "\n",
    "else:\n",
    "    all_component_events = current_CREAM_day.load_component_events(os.path.join(PATH_TO_DATA, \"component_events.csv\"), filter_day=False)\n",
    "\n",
    "# Load the product and the maintenance events (the raw ones, per minute events) and filter for the day\n",
    "all_maintenance_events = current_CREAM_day.load_machine_events(os.path.join(PATH_TO_DATA, \"maintenance_events.csv\"), raw_file=False, filter_day=False)\n",
    "all_product_events = current_CREAM_day.load_machine_events(os.path.join(PATH_TO_DATA, \"product_events.csv\"), raw_file=False, filter_day=False)"
   ]
  },
  {
   "cell_type": "markdown",
   "metadata": {},
   "source": [
    "# Analyze the Event Types"
   ]
  },
  {
   "cell_type": "markdown",
   "metadata": {},
   "source": [
    "#### Display the different event types and labeled components, together with their cardinality"
   ]
  },
  {
   "cell_type": "code",
   "execution_count": null,
   "metadata": {
    "scrolled": true
   },
   "outputs": [],
   "source": [
    "for events_df in [all_maintenance_events, all_product_events]:  \n",
    "    print(events_df.Event_Type.value_counts())\n",
    "    print(\"-------------------------------------\")\n",
    "all_component_events_fine.Component.value_counts()\n",
    "print(\"-------------------------------------\")\n",
    "all_component_events_coarse.Component.value_counts() "
   ]
  },
  {
   "cell_type": "markdown",
   "metadata": {
    "collapsed": "true"
   },
   "source": [
    "### Functions necessary to do so"
   ]
  },
  {
   "cell_type": "code",
   "execution_count": null,
   "metadata": {},
   "outputs": [],
   "source": [
    "def plot_event_durations(events_df:pd.DataFrame, event_type_column: str = \"Event_Type\"):\n",
    "    \"\"\"\n",
    "    Function to plot the event duration, for every event type.\n",
    "    Parameters\n",
    "    ----------\n",
    "    events_df (pd.DataFrame): maintenance events or product events dataframe\n",
    "    event_type_column (str): Name of the column containing the event type. \n",
    "    \n",
    "    Returns\n",
    "    -------\n",
    "    \n",
    "        \n",
    "    \"\"\"\n",
    "                               \n",
    "    for e_type in np.unique(events_df[event_type_column]):\n",
    "        x = events_df[events_df[event_type_column] == e_type].Event_Duration_Seconds\n",
    "        \n",
    "        n_samples = len(events_df[events_df[event_type_column] == e_type])\n",
    "        mean = np.mean(x)\n",
    "        stdev = np.std(x)\n",
    "                \n",
    "            \n",
    "        sns.distplot(x, label=e_type)\n",
    "        plt.legend()\n",
    "        plt.show()\n",
    "\n",
    "def print_event_duration_statistics(events_df:pd.DataFrame, event_type_column: str = \"Event_Type\"):\n",
    "    \"\"\"\n",
    "    Function to print the event duration, for every event type.\n",
    "    Parameters\n",
    "    ----------\n",
    "    events_df (pd.DataFrame): maintenance events or product events dataframe\n",
    "    event_type_column (str): Name of the column containing the event type. \n",
    "    \n",
    "    Returns\n",
    "    -------\n",
    "    \n",
    "        \n",
    "    \"\"\"\n",
    "    \n",
    "    data = { \"event type\" : [],\n",
    "        \"samples\": [],\n",
    "           \"mean\" : [],\n",
    "           \"standard deviation\" : []}\n",
    "    \n",
    "                               \n",
    "    for e_type in np.unique(events_df[event_type_column]):\n",
    "        x = events_df[events_df[event_type_column] == e_type].Event_Duration_Seconds\n",
    "        \n",
    "        n_samples = len(events_df[events_df[event_type_column] == e_type])\n",
    "        mean = np.mean(x)\n",
    "        stdev = np.std(x)\n",
    "        \n",
    "        data[\"samples\"].append(n_samples)\n",
    "        data[\"mean\"].append(mean)\n",
    "        data[\"standard deviation\"].append(stdev)\n",
    "        data[\"event type\"].append(e_type)\n",
    "    data = pd.DataFrame(data)\n",
    "    data = data.sort_values([\"samples\"], ascending=False)\n",
    "    print(data.round(2).to_latex(index=False))\n",
    "       "
   ]
  },
  {
   "cell_type": "markdown",
   "metadata": {},
   "source": [
    "## Product Events"
   ]
  },
  {
   "cell_type": "markdown",
   "metadata": {},
   "source": [
    "### Event Durations"
   ]
  },
  {
   "cell_type": "code",
   "execution_count": null,
   "metadata": {},
   "outputs": [],
   "source": [
    "print_event_duration_statistics(all_product_events, \"Event_Type\")\n",
    "print_event_duration_statistics(all_maintenance_events, \"Event_Type\")"
   ]
  },
  {
   "cell_type": "code",
   "execution_count": null,
   "metadata": {},
   "outputs": [],
   "source": [
    "plot_event_durations(all_product_events, \"Event_Type\")"
   ]
  },
  {
   "cell_type": "markdown",
   "metadata": {},
   "source": [
    "## Maintenance Events"
   ]
  },
  {
   "cell_type": "markdown",
   "metadata": {},
   "source": [
    "### Event Durations"
   ]
  },
  {
   "cell_type": "code",
   "execution_count": null,
   "metadata": {},
   "outputs": [],
   "source": [
    "plot_event_durations(all_maintenance_events, \"Event_Type\", NOMINAL_TIMES_PER_EVENT)"
   ]
  },
  {
   "cell_type": "markdown",
   "metadata": {},
   "source": [
    "# Event Distribution per Hour"
   ]
  },
  {
   "cell_type": "code",
   "execution_count": null,
   "metadata": {},
   "outputs": [],
   "source": [
    "def create_time_bin(hours : float, minutes : float) -> str:\n",
    "    \"\"\"\n",
    "    Creates a hour:minutes timestamp, ceiled to full 30 minutes.\n",
    "    All minutes below 15, become 0.\n",
    "    All between 15 and 45 minutes, become 30 minutes.\n",
    "    All minutes between 45 and 60 become 0 and belong to the next hour.\n",
    "    \"\"\"\n",
    "    if minutes < 15:\n",
    "        minutes = \"00\"\n",
    "    elif minutes >= 15 and minutes < 45:\n",
    "        minutes = \"30\"\n",
    "    elif minutes >= 45:\n",
    "        minutes = \"00\"\n",
    "        hours += 1\n",
    "    \n",
    "    if hours < 10:\n",
    "        hours = \"0\" + str(hours)\n",
    "    else:\n",
    "        hours = str(hours)\n",
    "    \n",
    "    return hours + \":\" + minutes"
   ]
  },
  {
   "cell_type": "code",
   "execution_count": null,
   "metadata": {},
   "outputs": [],
   "source": [
    "# create a new column with: hour:30, hour:0 in it for the x-axis as the labels\n",
    "all_product_events[\"Time_Bin\"] = all_product_events.Start_Timestamp.apply(lambda x: create_time_bin(x.hour, x.minute))\n",
    "\n",
    "times, counts = np.unique(all_product_events[\"Time_Bin\"], return_counts=True)\n",
    "\n",
    "plt.figure(figsize=(16,4))\n",
    "plt.title(\"Product Events\")\n",
    "plt.xlabel(\"Time\")\n",
    "plt.ylabel(\"Number of Events\")\n",
    "sns.barplot(x=times, y=counts, color=\"b\")\n",
    "plt.show()\n",
    "\n",
    "# create a new column with: hour:30, hour:0 in it for the x-axis as the labels\n",
    "all_maintenance_events[\"Time_Bin\"] = all_maintenance_events.Start_Timestamp.apply(lambda x: create_time_bin(x.hour, x.minute))\n",
    "\n",
    "times, counts = np.unique(all_maintenance_events[\"Time_Bin\"], return_counts=True)\n",
    "\n",
    "plt.figure(figsize=(16,4))\n",
    "plt.title(\"Maintenance Events\")\n",
    "plt.xlabel(\"Time\")\n",
    "plt.ylabel(\"Number of Events\")\n",
    "sns.barplot(x=times, y=counts,color=\"b\")\n",
    "plt.show()\n",
    "\n",
    "# create a new column with: hour:30, hour:0 in it for the x-axis as the labels\n",
    "all_maintenance_events[\"Time_Bin\"] = all_maintenance_events.Start_Timestamp.apply(lambda x: create_time_bin(x.hour, x.minute))\n",
    "all_product_events[\"Time_Bin\"] = all_product_events.Start_Timestamp.apply(lambda x: create_time_bin(x.hour, x.minute))\n",
    "\n",
    "times, counts = np.unique(np.concatenate([all_product_events[\"Time_Bin\"],all_maintenance_events[\"Time_Bin\"]]), return_counts=True)\n",
    "\n",
    "plt.figure(figsize=(16,4))\n",
    "plt.title(\"Product and Maintenance Events\")\n",
    "plt.xlabel(\"Time\")\n",
    "plt.ylabel(\"Number of Events\")\n",
    "sns.barplot(x=times, y=counts,color=\"b\")\n",
    "plt.show()\n",
    "\n",
    "\n",
    "fontdict_text = {\"size\" : 18}\n",
    "# create a new column with: hour:30, hour:0 in it for the x-axis as the labels\n",
    "all_component_events[\"Time_Bin\"] = all_component_events.Timestamp.apply(lambda x: create_time_bin(x.hour, x.minute))\n",
    "\n",
    "times, counts = np.unique(all_component_events[\"Time_Bin\"] , return_counts=True)\n",
    "\n",
    "plt.figure(figsize=(18,4))\n",
    "plt.title(\"Electrical Component Events\")\n",
    "plt.xlabel(\"Time\", fontdict=fontdict_text)\n",
    "plt.ylabel(\"Number of Events\", fontdict=fontdict_text)\n",
    "plt.xticks(fontdict=fontdict_text)\n",
    "sns.barplot(x=times, y=counts,color=\"b\")\n",
    "plt.show()\n",
    "\n",
    "for component in np.unique(all_component_events.Component):\n",
    "    component_events = all_component_events[all_component_events.Component == component].Timestamp.apply(lambda x: create_time_bin(x.hour, x.minute))\n",
    "    times, counts = np.unique(component_events, return_counts=True)\n",
    "    plt.figure(figsize=(18,4))\n",
    "    plt.title(component + \" Events\")\n",
    "    plt.xlabel(\"Time\")\n",
    "    plt.ylabel(\"Number of Events\")\n",
    "    sns.barplot(x=times, y=counts,color=\"b\")\n",
    "    plt.show()"
   ]
  },
  {
   "cell_type": "markdown",
   "metadata": {},
   "source": [
    "## Electrical Component Events"
   ]
  },
  {
   "cell_type": "markdown",
   "metadata": {},
   "source": [
    "## Mean instantenous power of the components"
   ]
  },
  {
   "cell_type": "code",
   "execution_count": null,
   "metadata": {},
   "outputs": [],
   "source": [
    "mean_instant_power_list = []\n",
    "component_list = []\n",
    "x_axis = [] # x-axis, first component at 1, second at 2, third at 3\n",
    "for index, component in enumerate( np.unique(all_component_events.Component), start=1):\n",
    "    if component == \"unlabeled\": #skip the unlabeled ones\n",
    "        continue\n",
    "        \n",
    "    component_events = all_component_events[all_component_events.Component == component]\n",
    "    \n",
    "    component_events = component_events.sample(n=100, random_state=10)\n",
    "    # for efficienfy reasons, iterate over each day separately\n",
    "    for day_date in np.unique(component_events.Date):\n",
    "              \n",
    "        for event in component_events[component_events.Date == day_date].itertuples():\n",
    "            cream_day = CREAM_Day(cream_day_location=os.path.join(PATH_TO_DATA, str(day_date)), use_buffer=True, buffer_size_files=10)\n",
    "            voltage, current = cream_day.load_time_frame(event.Timestamp, duration=0.3, return_noise=False)\n",
    "            instant_power = voltage * current\n",
    "            mean_instant_power_list.append(np.mean(instant_power))\n",
    "            component_list.append(component)\n",
    "            x_axis.append(index)\n",
    "    \n"
   ]
  },
  {
   "cell_type": "code",
   "execution_count": null,
   "metadata": {},
   "outputs": [],
   "source": [
    "import matplotlib\n",
    "%matplotlib inline\n",
    "component_list = np.array(component_list)\n",
    "mean_instant_power_list = np.array(mean_instant_power_list)\n",
    "fig, ax = plt.subplots(1, 3, figsize=(15,5), sharex=True, sharey=True)\n",
    "#matplotlib.rcParams.update({'font.size': 10})\n",
    "for i, component in enumerate(np.unique(component_list)):\n",
    "    mask = np.where(component_list == component)[0]\n",
    "    hist, bins = np.histogram(mean_instant_power_list[mask], bins=30)\n",
    "    biggest_bin = np.argmax(hist) # get biggest bin and its value\n",
    "    x, y, _ = ax[i].hist(mean_instant_power_list[mask], bins, color=\"b\")\n",
    "   \n",
    "    max_bin = np.argmax(x)\n",
    "    max_value = y[max_bin]\n",
    "    \n",
    "   # ax[i].set_xticklabels(y)\n",
    "    \n",
    "    ax[i].set_title(component, fontsize=18)\n",
    "    ax[i].set_ylim(0,60)\n",
    "    ax[i].set_ylabel(\"Samples\", fontsize=16)\n",
    "    ax[i].set_xlabel(\"Mean instantenous power,\\n with maximum bin at value %.2f\" %(max_value), fontsize=16)\n",
    "    \n",
    "fig.tight_layout()\n",
    "plt.show()\n",
    "fig.savefig(\"./component_mean_instant_power.pdf\")"
   ]
  }
 ],
 "metadata": {
  "kernelspec": {
   "display_name": "Python 3",
   "language": "python",
   "name": "python3"
  },
  "language_info": {
   "codemirror_mode": {
    "name": "ipython",
    "version": 3
   },
   "file_extension": ".py",
   "mimetype": "text/x-python",
   "name": "python",
   "nbconvert_exporter": "python",
   "pygments_lexer": "ipython3",
   "version": "3.7.7"
  }
 },
 "nbformat": 4,
 "nbformat_minor": 4
}
